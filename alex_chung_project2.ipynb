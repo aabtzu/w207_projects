{
 "cells": [
  {
   "cell_type": "markdown",
   "metadata": {},
   "source": [
    "# Project 2: Topic Classification"
   ]
  },
  {
   "cell_type": "markdown",
   "metadata": {},
   "source": [
    "In this project, you'll work with text data from newsgroup postings on a variety of topics. You'll train classifiers to distinguish between the topics based on the text of the posts. Whereas with digit classification, the input is relatively dense: a 28x28 matrix of pixels, many of which are non-zero, here we'll represent each document with a \"bag-of-words\" model. As you'll see, this makes the feature representation quite sparse -- only a few words of the total vocabulary are active in any given document. The bag-of-words assumption here is that the label depends only on the words; their order is not important.\n",
    "\n",
    "The SK-learn documentation on feature extraction will prove useful:\n",
    "http://scikit-learn.org/stable/modules/feature_extraction.html\n",
    "\n",
    "Each problem can be addressed succinctly with the included packages -- please don't add any more. Grading will be based on writing clean, commented code, along with a few short answers.\n",
    "\n",
    "As always, you're welcome to work on the project in groups and discuss ideas on the course wall, but please prepare your own write-up and write your own code."
   ]
  },
  {
   "cell_type": "code",
   "execution_count": 1,
   "metadata": {
    "collapsed": false
   },
   "outputs": [
    {
     "name": "stderr",
     "output_type": "stream",
     "text": [
      "/Users/alexanderchung/anaconda/lib/python3.6/site-packages/sklearn/cross_validation.py:41: DeprecationWarning: This module was deprecated in version 0.18 in favor of the model_selection module into which all the refactored classes and functions are moved. Also note that the interface of the new CV iterators are different from that of this module. This module will be removed in 0.20.\n",
      "  \"This module will be removed in 0.20.\", DeprecationWarning)\n",
      "/Users/alexanderchung/anaconda/lib/python3.6/site-packages/sklearn/grid_search.py:42: DeprecationWarning: This module was deprecated in version 0.18 in favor of the model_selection module into which all the refactored classes and functions are moved. This module will be removed in 0.20.\n",
      "  DeprecationWarning)\n"
     ]
    }
   ],
   "source": [
    "# This tells matplotlib not to try opening a new window for each plot.\n",
    "%matplotlib inline\n",
    "\n",
    "# General libraries.\n",
    "import re\n",
    "import numpy as np\n",
    "import matplotlib.pyplot as plt\n",
    "import pandas as pd \n",
    "\n",
    "# SK-learn libraries for learning.\n",
    "from sklearn.pipeline import Pipeline\n",
    "from sklearn.neighbors import KNeighborsClassifier\n",
    "from sklearn.linear_model import LogisticRegression\n",
    "from sklearn.naive_bayes import BernoulliNB\n",
    "from sklearn.naive_bayes import MultinomialNB\n",
    "from sklearn.grid_search import GridSearchCV\n",
    "\n",
    "# SK-learn libraries for evaluation.\n",
    "from sklearn.metrics import confusion_matrix\n",
    "from sklearn import metrics\n",
    "from sklearn.metrics import classification_report\n",
    "\n",
    "# SK-learn library for importing the newsgroup data.\n",
    "from sklearn.datasets import fetch_20newsgroups\n",
    "\n",
    "# SK-learn libraries for feature extraction from text.\n",
    "from sklearn.feature_extraction.text import *"
   ]
  },
  {
   "cell_type": "markdown",
   "metadata": {},
   "source": [
    "Load the data, stripping out metadata so that we learn classifiers that only use textual features. By default, newsgroups data is split into train and test sets. We further split the test so we have a dev set. Note that we specify 4 categories to use for this project. If you remove the categories argument from the fetch function, you'll get all 20 categories."
   ]
  },
  {
   "cell_type": "code",
   "execution_count": 2,
   "metadata": {
    "collapsed": false
   },
   "outputs": [
    {
     "name": "stdout",
     "output_type": "stream",
     "text": [
      "training label shape: (2034,)\n",
      "test label shape: (677,)\n",
      "dev label shape: (676,)\n",
      "labels names: ['alt.atheism', 'comp.graphics', 'sci.space', 'talk.religion.misc']\n"
     ]
    }
   ],
   "source": [
    "categories = ['alt.atheism', 'talk.religion.misc', 'comp.graphics', 'sci.space']\n",
    "newsgroups_train = fetch_20newsgroups(subset='train',\n",
    "                                      remove=('headers', 'footers', 'quotes'),\n",
    "                                      categories=categories)\n",
    "newsgroups_test = fetch_20newsgroups(subset='test',\n",
    "                                     remove=('headers', 'footers', 'quotes'),\n",
    "                                     categories=categories)\n",
    "\n",
    "num_test = len(newsgroups_test.target)\n",
    "test_data, test_labels = newsgroups_test.data[num_test//2:], newsgroups_test.target[num_test//2:]\n",
    "dev_data, dev_labels = newsgroups_test.data[:num_test//2], newsgroups_test.target[:num_test//2]\n",
    "train_data, train_labels = newsgroups_train.data, newsgroups_train.target\n",
    "\n",
    "print ('training label shape:', train_labels.shape)\n",
    "print ('test label shape:', test_labels.shape)\n",
    "print ('dev label shape:', dev_labels.shape)\n",
    "print ('labels names:', newsgroups_train.target_names)"
   ]
  },
  {
   "cell_type": "markdown",
   "metadata": {},
   "source": [
    "### Part 1\n",
    "\n",
    "For each of the first 5 training examples, print the text of the message along with the label."
   ]
  },
  {
   "cell_type": "code",
   "execution_count": 3,
   "metadata": {
    "collapsed": false
   },
   "outputs": [
    {
     "name": "stdout",
     "output_type": "stream",
     "text": [
      "                                       Training Data  Training Labels\n",
      "0  Hi,\\n\\nI've noticed that if you only save a mo...                1\n",
      "1  \\n\\nSeems to be, barring evidence to the contr...                3\n",
      "2  \\n >In article <1993Apr19.020359.26996@sq.sq.c...                2\n",
      "3  I have a request for those who would like to s...                0\n",
      "4  AW&ST  had a brief blurb on a Manned Lunar Exp...                2\n"
     ]
    }
   ],
   "source": [
    "# 5 examples\n",
    "\n",
    "df = pd.DataFrame({'Training Data': train_data[0:5], 'Training Labels': train_labels[0:5]})\n",
    "\n",
    "print (df)"
   ]
  },
  {
   "cell_type": "code",
   "execution_count": 4,
   "metadata": {
    "collapsed": false
   },
   "outputs": [
    {
     "name": "stdout",
     "output_type": "stream",
     "text": [
      "Hi,\n",
      "\n",
      "I've noticed that if you only save a model (with all your mapping planes\n",
      "positioned carefully) to a .3DS file that when you reload it after restarting\n",
      "3DS, they are given a default position and orientation.  But if you save\n",
      "to a .PRJ file their positions/orientation are preserved.  Does anyone\n",
      "know why this information is not stored in the .3DS file?  Nothing is\n",
      "explicitly said in the manual about saving texture rules in the .PRJ file. \n",
      "I'd like to be able to read the texture rule information, does anyone have \n",
      "the format for the .PRJ file?\n",
      "\n",
      "Is the .CEL file format available from somewhere?\n",
      "\n",
      "Rych\n"
     ]
    }
   ],
   "source": [
    "# 1 example full text to see\n",
    "\n",
    "print (train_data[0])"
   ]
  },
  {
   "cell_type": "markdown",
   "metadata": {},
   "source": [
    "### Part 2\n",
    "\n",
    "Use CountVectorizer to turn the raw training text into feature vectors. You should use the fit_transform function, which makes 2 passes through the data: first it computes the vocabulary (\"fit\"), second it converts the raw text into feature vectors using the vocabulary (\"transform\")."
   ]
  },
  {
   "cell_type": "code",
   "execution_count": 5,
   "metadata": {
    "collapsed": false
   },
   "outputs": [
    {
     "data": {
      "text/plain": [
       "(2034, 26879)"
      ]
     },
     "execution_count": 5,
     "metadata": {},
     "output_type": "execute_result"
    }
   ],
   "source": [
    "# Create vector object\n",
    "\n",
    "vec = CountVectorizer()\n",
    "\n",
    "vec_train_data = vec.fit_transform(train_data)\n",
    "\n",
    "vec_train_data.shape"
   ]
  },
  {
   "cell_type": "markdown",
   "metadata": {},
   "source": [
    "### 2a \n",
    "\n",
    "The output of the transform (also of fit_transform) is a sparse matrix: http://docs.scipy.org/doc/scipy-0.14.0/reference/generated/scipy.sparse.csr_matrix.html. What is the size of the vocabulary? What is the average number of non-zero features per example? What fraction of the entries in the matrix are non-zero? Hint: use \"nnz\" and \"shape\" attributes."
   ]
  },
  {
   "cell_type": "code",
   "execution_count": 6,
   "metadata": {
    "collapsed": false
   },
   "outputs": [
    {
     "name": "stdout",
     "output_type": "stream",
     "text": [
      "Vocabulary size is 26879\n",
      "Average non-zero features per example is 96\n",
      "Fraction of non-zero in matrix is 0.0035978272269590263\n"
     ]
    }
   ],
   "source": [
    "print (\"Vocabulary size is\", vec_train_data.shape[1])\n",
    "print (\"Average non-zero features per example is\", vec_train_data.nnz//vec_train_data.shape[0])\n",
    "print (\"Fraction of non-zero in matrix is\", vec_train_data.nnz/(2034 * 26879))"
   ]
  },
  {
   "cell_type": "markdown",
   "metadata": {},
   "source": [
    "### 2b \n",
    "\n",
    "What are the 0th and last feature strings (in alphabetical order)? Hint: use the vectorizer's get_feature_names function."
   ]
  },
  {
   "cell_type": "code",
   "execution_count": 7,
   "metadata": {
    "collapsed": false
   },
   "outputs": [
    {
     "name": "stdout",
     "output_type": "stream",
     "text": [
      "0th is 00\n",
      "Last is zyxel\n"
     ]
    }
   ],
   "source": [
    "print (\"0th is\", vec.get_feature_names()[0])\n",
    "print (\"Last is\", vec.get_feature_names()[-1])"
   ]
  },
  {
   "cell_type": "markdown",
   "metadata": {},
   "source": [
    "### 2c\n",
    "\n",
    "Specify your own vocabulary with 4 words: [\"atheism\", \"graphics\", \"space\", \"religion\"]. Confirm the training vectors are appropriately shaped. Now what's the average number of non-zero features per example?"
   ]
  },
  {
   "cell_type": "code",
   "execution_count": 8,
   "metadata": {
    "collapsed": false
   },
   "outputs": [
    {
     "name": "stdout",
     "output_type": "stream",
     "text": [
      "Shape seems reasonable:  (2034, 4)\n",
      "Average non-zero features per example is 0.26843657817109146\n"
     ]
    }
   ],
   "source": [
    "# Set vocab\n",
    "\n",
    "vec_2c = CountVectorizer()\n",
    "vec_2c.vocabulary = [\"atheism\", \"graphics\", \"space\", \"religion\"]\n",
    "vec_train_data_2c = vec_2c.fit_transform(train_data)\n",
    "\n",
    "# Shape and average\n",
    "\n",
    "print (\"Shape seems reasonable: \",vec_train_data_2c.shape)\n",
    "print (\"Average non-zero features per example is\", vec_train_data_2c.nnz/vec_train_data_2c.shape[0])"
   ]
  },
  {
   "cell_type": "markdown",
   "metadata": {},
   "source": [
    "### 2d\n",
    "\n",
    "Instead of extracting unigram word features, use \"analyzer\" and \"ngram_range\" to extract bigram and trigram character features. What size vocabulary does this yield?"
   ]
  },
  {
   "cell_type": "code",
   "execution_count": 9,
   "metadata": {
    "collapsed": false
   },
   "outputs": [
    {
     "name": "stdout",
     "output_type": "stream",
     "text": [
      "Vocabulary size is 35478\n"
     ]
    }
   ],
   "source": [
    "# Set analyzer and ngram range\n",
    "\n",
    "vec_2d = CountVectorizer(analyzer=\"char\", ngram_range=(2,3))\n",
    "vec_train_data_2d = vec_2d.fit_transform(train_data)\n",
    "\n",
    "# Vocab size\n",
    "\n",
    "print (\"Vocabulary size is\", vec_train_data_2d.shape[1])"
   ]
  },
  {
   "cell_type": "markdown",
   "metadata": {},
   "source": [
    "### 2e\n",
    "\n",
    "Use the \"min_df\" argument to prune words that appear in fewer than 10 documents. What size vocabulary does this yield?"
   ]
  },
  {
   "cell_type": "code",
   "execution_count": 10,
   "metadata": {
    "collapsed": false
   },
   "outputs": [
    {
     "name": "stdout",
     "output_type": "stream",
     "text": [
      "Vocabulary size is 3064\n"
     ]
    }
   ],
   "source": [
    "# Set min_df\n",
    "\n",
    "vec_2e = CountVectorizer(min_df=10)\n",
    "vec_train_data_2e = vec_2e.fit_transform(train_data)\n",
    "\n",
    "# Vocab size\n",
    "\n",
    "print (\"Vocabulary size is\", vec_train_data_2e.shape[1])"
   ]
  },
  {
   "cell_type": "markdown",
   "metadata": {},
   "source": [
    "### 2f \n",
    "\n",
    "Using the standard CountVectorizer, what fraction of the words in the dev data are missing from the vocabulary? Hint: build a vocabulary for both train and dev and look at the size of the difference."
   ]
  },
  {
   "cell_type": "code",
   "execution_count": 11,
   "metadata": {
    "collapsed": false
   },
   "outputs": [
    {
     "name": "stdout",
     "output_type": "stream",
     "text": [
      "Fraction missing is 0.395587633468507\n"
     ]
    }
   ],
   "source": [
    "# Set CountVectorizer\n",
    "\n",
    "vec_2f = CountVectorizer()\n",
    "vec_train_2f, vec_dev_2f = vec_2f.fit_transform(train_data), vec_2f.fit_transform(dev_data)\n",
    "\n",
    "# Inspect vocab size and calculate fraction\n",
    "\n",
    "print (\"Fraction missing is\", ((vec_train_2f.shape[1] - vec_dev_2f.shape[1])/vec_train_2f.shape[1]))"
   ]
  },
  {
   "cell_type": "markdown",
   "metadata": {},
   "source": [
    "### Part 3\n",
    "\n",
    "Use the default CountVectorizer options and report the f1 score (use metrics.f1_score) for a k nearest neighbors classifier; find the optimal value for k. Also fit a Multinomial Naive Bayes model and find the optimal value for alpha. Finally, fit a logistic regression model and find the optimal value for the regularization strength C using l2 regularization."
   ]
  },
  {
   "cell_type": "markdown",
   "metadata": {},
   "source": [
    "#### Finding optimal K"
   ]
  },
  {
   "cell_type": "code",
   "execution_count": 12,
   "metadata": {
    "collapsed": false
   },
   "outputs": [
    {
     "name": "stdout",
     "output_type": "stream",
     "text": [
      "Optimal k is {'n_neighbors': 95}\n"
     ]
    }
   ],
   "source": [
    "# Create vector\n",
    "\n",
    "vec_3 = CountVectorizer()\n",
    "vec_train_3 = vec_3.fit_transform(train_data)\n",
    "\n",
    "# Create KNN for k values (odd numbers below 100)\n",
    "\n",
    "odd_numbers = [i for i in range(1,100) if i%2 != 0]\n",
    "k_values = {\"n_neighbors\": odd_numbers}\n",
    "\n",
    "# GridSearch to find optimal k\n",
    "\n",
    "model = KNeighborsClassifier()\n",
    "grid = GridSearchCV(model,k_values,scoring='f1_weighted')\n",
    "predict_grid = grid.fit(vec_train_3,train_labels)\n",
    "\n",
    "print (\"Optimal k is\", predict_grid.best_params_)"
   ]
  },
  {
   "cell_type": "markdown",
   "metadata": {},
   "source": [
    "#### Finding optimal alpha"
   ]
  },
  {
   "cell_type": "code",
   "execution_count": 13,
   "metadata": {
    "collapsed": false
   },
   "outputs": [
    {
     "name": "stderr",
     "output_type": "stream",
     "text": [
      "/Users/alexanderchung/anaconda/lib/python3.6/site-packages/sklearn/naive_bayes.py:472: UserWarning: alpha too small will result in numeric errors, setting alpha = 1.0e-10\n",
      "  'setting alpha = %.1e' % _ALPHA_MIN)\n",
      "/Users/alexanderchung/anaconda/lib/python3.6/site-packages/sklearn/naive_bayes.py:472: UserWarning: alpha too small will result in numeric errors, setting alpha = 1.0e-10\n",
      "  'setting alpha = %.1e' % _ALPHA_MIN)\n",
      "/Users/alexanderchung/anaconda/lib/python3.6/site-packages/sklearn/naive_bayes.py:472: UserWarning: alpha too small will result in numeric errors, setting alpha = 1.0e-10\n",
      "  'setting alpha = %.1e' % _ALPHA_MIN)\n"
     ]
    },
    {
     "name": "stdout",
     "output_type": "stream",
     "text": [
      "Optimal alpha is {'alpha': 0.01}\n"
     ]
    }
   ],
   "source": [
    "# Alphas (taken from Project 1)\n",
    "\n",
    "alphas = {\"alpha\":[0.0, 0.0001, 0.001, 0.01, 0.1, 0.5, 1.0, 2.0, 10.0]}\n",
    "\n",
    "# Fit multinomial naive bayes\n",
    "\n",
    "model_mnb = MultinomialNB()\n",
    "grid_mnb = GridSearchCV(model_mnb,alphas,scoring='f1_weighted')\n",
    "predict_grid_mnb = grid_mnb.fit(vec_train_3,train_labels)\n",
    "\n",
    "print (\"Optimal alpha is\", predict_grid_mnb.best_params_)"
   ]
  },
  {
   "cell_type": "markdown",
   "metadata": {},
   "source": [
    "#### Optimal value for C"
   ]
  },
  {
   "cell_type": "code",
   "execution_count": 14,
   "metadata": {
    "collapsed": false
   },
   "outputs": [
    {
     "name": "stdout",
     "output_type": "stream",
     "text": [
      "Optimal C is {'C': 0.2}\n"
     ]
    }
   ],
   "source": [
    "# Define C values and create model\n",
    "\n",
    "c_values = {\"C\":[0.01, 0.2, 0.3, 0.4, 0.5, 0.6, 0.7, 0.8, 0.99]}\n",
    "logistic = LogisticRegression(penalty = \"l2\")\n",
    "\n",
    "# GridSearch to find optimal C\n",
    "\n",
    "grid_logistic = GridSearchCV(logistic, c_values)\n",
    "predict_grid_logistic = grid_logistic.fit(vec_train_3,train_labels)\n",
    "\n",
    "\n",
    "print (\"Optimal C is\", predict_grid_logistic.best_params_)"
   ]
  },
  {
   "cell_type": "markdown",
   "metadata": {},
   "source": [
    "### 3a\n",
    "\n",
    "Why doesn't nearest neighbors work well for this problem?\n",
    "\n",
    "#### Curse of dimensionality where KNN is misfitting high-dimensional data."
   ]
  },
  {
   "cell_type": "markdown",
   "metadata": {},
   "source": [
    "### 3b \n",
    "\n",
    "Any ideas why logistic regression doesn't work as well as Naive Bayes?\n",
    "\n",
    "#### It's possible that Naive Bayes may work better on a smaller amount of traning data."
   ]
  },
  {
   "cell_type": "markdown",
   "metadata": {},
   "source": [
    "### 3c \n",
    "\n",
    "Logistic regression estimates a weight vector for each class, which you can access with the coef\\_ attribute. Output the sum of the squared weight values for each class for each setting of the C parameter. Briefly explain the relationship between the sum and the value of C."
   ]
  },
  {
   "cell_type": "code",
   "execution_count": 15,
   "metadata": {
    "collapsed": false
   },
   "outputs": [
    {
     "name": "stdout",
     "output_type": "stream",
     "text": [
      "For C=0.01, sum of the squared weight is [ 2.54147847  2.93970937  2.86246884  2.25002921]\n",
      "For C=0.2, sum of the squared weight is [ 49.74394946  42.74337514  49.32860862  42.66649474]\n",
      "For C=0.3, sum of the squared weight is [ 69.28241074  57.86865237  67.89889811  59.78284452]\n",
      "For C=0.4, sum of the squared weight is [ 86.72956992  71.14614227  84.27950863  75.03946457]\n",
      "For C=0.5, sum of the squared weight is [ 102.59648447   83.11964951   99.0380729    89.00896845]\n",
      "For C=0.6, sum of the squared weight is [ 117.26159825   94.00631585  112.53089474  101.86963127]\n",
      "For C=0.7, sum of the squared weight is [ 130.88264326  104.14532113  125.00616875  113.84572574]\n",
      "For C=0.8, sum of the squared weight is [ 143.60487315  113.61561522  136.6186013   125.10211069]\n",
      "For C=0.99, sum of the squared weight is [ 165.93165991  130.06071765  156.92407614  144.75888602]\n"
     ]
    }
   ],
   "source": [
    "# Iterate through different values of C\n",
    "\n",
    "for C in [0.01, 0.20, 0.30, 0.40, 0.50, 0.60, 0.70, 0.80, 0.99]:\n",
    "        model_3c = LogisticRegression(C=C)\n",
    "        model_3c.fit(vec_train_3,train_labels)\n",
    "        sum_weight = np.sum(model_3c.coef_**2, axis=1)        \n",
    "        print (\"For C={}, sum of the squared weight is {}\".format(C,sum_weight))"
   ]
  },
  {
   "cell_type": "markdown",
   "metadata": {},
   "source": [
    "#### The sums appear to increase as the C value increases."
   ]
  },
  {
   "cell_type": "markdown",
   "metadata": {},
   "source": [
    "### Part 4\n",
    "\n",
    "Train a logistic regression model. Find the 5 features with the largest weights for each label -- 20 features in total. Create a table with 20 rows and 4 columns that shows the weight for each of these features for each of the labels. Create the table again with bigram features. Any surprising features in this table?"
   ]
  },
  {
   "cell_type": "code",
   "execution_count": 16,
   "metadata": {
    "collapsed": false
   },
   "outputs": [
    {
     "name": "stdout",
     "output_type": "stream",
     "text": [
      "Largest Weights\n",
      "       1     2     3     4    Features\n",
      "0   0.95 -0.62 -0.79 -0.06    religion\n",
      "1   0.99 -0.22 -0.34 -0.46       bobby\n",
      "2   1.03 -0.10 -0.32 -0.83    atheists\n",
      "3   1.12 -0.40 -0.42 -0.40    deletion\n",
      "4  -1.26 -1.32  2.16 -1.17       space\n",
      "5  -0.36  1.13 -0.70 -0.38          3d\n",
      "6  -0.33  1.27 -0.81 -0.63        file\n",
      "7  -0.58  1.35 -0.83 -0.47       image\n",
      "8  -1.26 -1.32  2.16 -1.17       space\n",
      "9  -0.76  1.94 -1.34 -0.76    graphics\n",
      "10 -0.47 -0.47  0.94 -0.33      launch\n",
      "11 -0.57 -0.48  1.01 -0.47        nasa\n",
      "12 -0.76  1.94 -1.34 -0.76    graphics\n",
      "13 -1.26 -1.32  2.16 -1.17       space\n",
      "14 -0.41 -0.67  1.22 -0.63       orbit\n",
      "15  0.23 -0.13  0.34 -0.93       could\n",
      "16 -0.53 -0.11 -0.32  1.05       blood\n",
      "17 -0.61 -0.42 -0.27  1.12   christian\n",
      "18 -0.74 -0.41 -0.53  1.15  christians\n",
      "19 -1.26 -1.32  2.16 -1.17       space\n"
     ]
    }
   ],
   "source": [
    "# Create vector \n",
    "\n",
    "vec_4 = CountVectorizer()\n",
    "vec_train_4 = vec_4.fit_transform(train_data)\n",
    "dev_train_4 = vec_4.transform(dev_data)\n",
    "\n",
    "# Train logistic\n",
    "\n",
    "logistic_4 = LogisticRegression()\n",
    "logistic_4.fit(vec_train_4, train_labels)\n",
    "logistic_4_predict = logistic_4.predict(dev_train_4)\n",
    "\n",
    "# Find largest weights and process data\n",
    "\n",
    "weights = logistic_4.coef_\n",
    "index_list = map(lambda category: np.argpartition(abs(weights[category]), -5)[-5:], range(4))\n",
    "index = [i for j in index_list for i in j]\n",
    "features = [vec_4.get_feature_names()[idx] for idx in index]\n",
    "largest = [np.round(weights[category][index],2) for category in range(4)]\n",
    "\n",
    "# Place data into dataframe\n",
    "\n",
    "df_4 = pd.DataFrame({'Features': features, '1': largest[0], '2': largest[1], '3': largest[2], '4': largest[3]})\n",
    "\n",
    "print (\"Largest Weights\")\n",
    "print (df_4)"
   ]
  },
  {
   "cell_type": "markdown",
   "metadata": {},
   "source": [
    "#### With Bigram features:"
   ]
  },
  {
   "cell_type": "code",
   "execution_count": 17,
   "metadata": {
    "collapsed": false
   },
   "outputs": [
    {
     "name": "stdout",
     "output_type": "stream",
     "text": [
      "Largest Weights - Bigram\n",
      "       1     2     3     4        Features\n",
      "0   0.63 -0.24 -0.20 -0.17         look up\n",
      "1   0.65 -0.88 -0.82  0.60     cheers kent\n",
      "2   0.77 -0.26 -0.35 -0.20      claim that\n",
      "3   0.68 -0.19 -0.20 -0.30        was just\n",
      "4  -0.76  1.32 -0.61 -0.70     looking for\n",
      "5  -0.32  0.90 -0.58 -0.33       out there\n",
      "6  -0.38  1.04 -0.47 -0.40   comp graphics\n",
      "7  -0.43  0.91 -0.57 -0.34        is there\n",
      "8  -0.76  1.32 -0.61 -0.70     looking for\n",
      "9  -0.54  0.97 -0.53 -0.51      in advance\n",
      "10 -0.24 -0.40  0.69 -0.26        and such\n",
      "11 -0.32 -0.39  0.74 -0.27       sci space\n",
      "12 -0.40 -0.58  0.95 -0.24        the moon\n",
      "13 -0.31 -0.65  1.03 -0.32       the space\n",
      "14  0.65 -0.88 -0.82  0.60     cheers kent\n",
      "15 -0.17 -0.26 -0.36  0.65         the fbi\n",
      "16 -0.13 -0.21 -0.20  0.70  compuserve com\n",
      "17 -0.76  1.32 -0.61 -0.70     looking for\n",
      "18 -0.15 -0.22 -0.19  0.71     such lunacy\n",
      "19 -0.23 -0.25 -0.21  0.75    ignorance is\n"
     ]
    }
   ],
   "source": [
    "# Create vector \n",
    "\n",
    "vec_4_bi = CountVectorizer(ngram_range=(2,2))\n",
    "vec_train_4_bi = vec_4_bi.fit_transform(train_data)\n",
    "dev_train_4_bi = vec_4_bi.transform(dev_data)\n",
    "\n",
    "# Train logistic\n",
    "\n",
    "logistic_4_bi = LogisticRegression()\n",
    "logistic_4_bi.fit(vec_train_4_bi, train_labels)\n",
    "logistic_4_predict_bi = logistic_4_bi.predict(dev_train_4_bi)\n",
    "\n",
    "# Find largest weights and process data\n",
    "\n",
    "weights = logistic_4_bi.coef_\n",
    "index_list = map(lambda category: np.argpartition(abs(weights[category]), -5)[-5:], range(4))\n",
    "index = [i for j in index_list for i in j]\n",
    "features = [vec_4_bi.get_feature_names()[idx] for idx in index]\n",
    "largest = [np.round(weights[category][index],2) for category in range(4)]\n",
    "\n",
    "# Place data into dataframe\n",
    "\n",
    "df_4_bi = pd.DataFrame({'Features': features, '1': largest[0], '2': largest[1], '3': largest[2], '4': largest[3]})\n",
    "\n",
    "print (\"Largest Weights - Bigram\")\n",
    "print (df_4_bi)"
   ]
  },
  {
   "cell_type": "markdown",
   "metadata": {},
   "source": [
    "### Part 5 \n",
    "\n",
    "Try to improve the logistic regression classifier by passing a custom preprocessor to CountVectorizer. The preprocessing function runs on the raw text, before it is split into words by the tokenizer. Your preprocessor should try to normalize the input in various ways to improve generalization. For example, try lowercasing everything, replacing sequences of numbers with a single token, removing various other non-letter characters, and shortening long words. If you're not already familiar with regular expressions for manipulating strings, see https://docs.python.org/2/library/re.html, and re.sub() in particular. With your new preprocessor, how much did you reduce the size of the dictionary?\n",
    "\n",
    "For reference, I was able to improve dev F1 by 2 points.\n",
    "\n",
    "[4 pts]"
   ]
  },
  {
   "cell_type": "code",
   "execution_count": 18,
   "metadata": {
    "collapsed": false
   },
   "outputs": [],
   "source": [
    "# Simple processing function\n",
    "\n",
    "def better_preprocessor(s):\n",
    "\n",
    "    ## lowercase\n",
    "    s = s.lower()\n",
    "    ## remove non-letter chars\n",
    "    s = re.sub(\"[^a-zA-Z\\s]\", \"\", s)\n",
    "    return s"
   ]
  },
  {
   "cell_type": "code",
   "execution_count": 19,
   "metadata": {
    "collapsed": false
   },
   "outputs": [
    {
     "name": "stdout",
     "output_type": "stream",
     "text": [
      "Score w/ NO preprocess: 0.694417287185\n"
     ]
    }
   ],
   "source": [
    "# No processing\n",
    "\n",
    "vec_5 = CountVectorizer()\n",
    "vec_train_5 = vec_5.fit_transform(train_data)\n",
    "dev_train_5 = vec_5.transform(dev_data)\n",
    "\n",
    "# Train logistic\n",
    "\n",
    "logistic_5 = LogisticRegression()\n",
    "logistic_5.fit(vec_train_5, train_labels)\n",
    "logistic_5_predict = logistic_5.predict(dev_train_5)\n",
    "\n",
    "# Get score\n",
    "\n",
    "print (\"Score w/ NO preprocess:\", metrics.f1_score(dev_labels,logistic_5_predict,average='weighted'))"
   ]
  },
  {
   "cell_type": "code",
   "execution_count": 20,
   "metadata": {
    "collapsed": false
   },
   "outputs": [
    {
     "name": "stdout",
     "output_type": "stream",
     "text": [
      "Score WITH preprocess: 0.683311427905\n",
      "Size reduced by 96\n"
     ]
    }
   ],
   "source": [
    "# WITH processing\n",
    "\n",
    "vec_5_processed = CountVectorizer(preprocessor=better_preprocessor)\n",
    "vec_train_5_processed = vec_5_processed.fit_transform(train_data)\n",
    "dev_train_5_processed = vec_5_processed.transform(dev_data)\n",
    "\n",
    "# Train logistic\n",
    "\n",
    "logistic_5_processed = LogisticRegression()\n",
    "logistic_5_processed.fit(vec_train_5_processed, train_labels)\n",
    "logistic_5_predict_processed = logistic_5_processed.predict(dev_train_5_processed)\n",
    "\n",
    "# Get score\n",
    "\n",
    "print (\"Score WITH preprocess:\", metrics.f1_score(dev_labels,logistic_5_predict_processed,average='weighted'))\n",
    "\n",
    "# Dictionary reduction\n",
    "\n",
    "print (\"Size reduced by\", len(vec_5.vocabulary_)-len(vec_5_processed.vocabulary_))"
   ]
  },
  {
   "cell_type": "markdown",
   "metadata": {},
   "source": [
    "#### With just lowercase and substitution non-letter characters, the f1 actually went down. I reduced the dictionary size by only 96. "
   ]
  },
  {
   "cell_type": "markdown",
   "metadata": {},
   "source": [
    "### Part 6 \n",
    "\n",
    "The idea of regularization is to avoid learning very large weights (which are likely to fit the training data, but not generalize well) by adding a penalty to the total size of the learned weights. That is, logistic regression seeks the set of weights that minimizes errors in the training data AND has a small size. The default regularization, L2, computes this size as the sum of the squared weights (see P3, above). L1 regularization computes this size as the sum of the absolute values of the weights. The result is that whereas L2 regularization makes all the weights relatively small, L1 regularization drives lots of the weights to 0, effectively removing unimportant features.\n",
    "\n",
    "Train a logistic regression model using a \"l1\" penalty. Output the number of learned weights that are not equal to zero. How does this compare to the number of non-zero weights you get with \"l2\"? Now, reduce the size of the vocabulary by keeping only those features that have at least one non-zero weight and retrain a model using \"l2\".\n",
    "\n",
    "Make a plot showing accuracy of the re-trained model vs. the vocabulary size you get when pruning unused features by adjusting the C parameter.\n",
    "\n",
    "Note: The gradient descent code that trains the logistic regression model sometimes has trouble converging with extreme settings of the C parameter. Relax the convergence criteria by setting tol=.01 (the default is .0001).\n",
    "\n",
    "[4 pts]"
   ]
  },
  {
   "cell_type": "code",
   "execution_count": 21,
   "metadata": {
    "collapsed": false
   },
   "outputs": [
    {
     "name": "stdout",
     "output_type": "stream",
     "text": [
      "# of Non Zero for L1:  649\n",
      "# of Non Zero for L2:  107516\n"
     ]
    }
   ],
   "source": [
    "# Create vector\n",
    "\n",
    "vec_6 = CountVectorizer()\n",
    "vec_train_6 = vec_6.fit_transform(train_data)\n",
    "dev_train_6 = vec_6.transform(dev_data)\n",
    "\n",
    "# Train logistic w/ L1\n",
    "\n",
    "logistic_6_l1 = LogisticRegression(penalty=\"l1\", C=0.2, tol=0.01)\n",
    "logistic_6_l1.fit(vec_train_6, train_labels)\n",
    "logistic_6_l1_predict = logistic_6_l1.predict(dev_train_6)\n",
    "\n",
    "# Train logistic w/ L2\n",
    "\n",
    "logistic_6_l2 = LogisticRegression(penalty=\"l2\", C=0.2, tol=0.01)\n",
    "logistic_6_l2.fit(vec_train_6, train_labels)\n",
    "logistic_6_l2_predict = logistic_6_l2.predict(dev_train_6)\n",
    "\n",
    "# Compare non-zeros\n",
    "\n",
    "print (\"# of Non Zero for L1: \", np.count_nonzero(logistic_6_l1.coef_))\n",
    "print (\"# of Non Zero for L2: \", np.count_nonzero(logistic_6_l2.coef_))"
   ]
  },
  {
   "cell_type": "code",
   "execution_count": 22,
   "metadata": {
    "collapsed": false
   },
   "outputs": [],
   "source": [
    "# Create list of vocab items that contain at least 1 non-zero weight\n",
    "\n",
    "vocab = vec_6.vocabulary_\n",
    "weights = logistic_6_l1.coef_\n",
    "vocab_nonzeros = []\n",
    "\n",
    "for item in vocab:\n",
    "    i = vocab.get(str(item))\n",
    "    if weights[0,i] !=0 or weights[1,i] != 0 or weights[2,i] != 0 or weights[3,i] != 0:\n",
    "        vocab_nonzeros.append(item)\n",
    "        \n",
    "# Create new vector with moidified vocab\n",
    "\n",
    "vec_6_new = CountVectorizer(vocabulary=vocab_nonzeros)\n",
    "vec_train_6_new = vec_6_new.fit_transform(train_data)\n",
    "dev_train_6_new = vec_6_new.transform(dev_data)"
   ]
  },
  {
   "cell_type": "code",
   "execution_count": 23,
   "metadata": {
    "collapsed": false
   },
   "outputs": [
    {
     "data": {
      "text/plain": [
       "<matplotlib.text.Text at 0x1a164d4080>"
      ]
     },
     "execution_count": 23,
     "metadata": {},
     "output_type": "execute_result"
    },
    {
     "data": {
      "image/png": "[encoded data removed]",
      "text/plain": [
       "<matplotlib.figure.Figure at 0x1a164e1390>"
      ]
     },
     "metadata": {},
     "output_type": "display_data"
    }
   ],
   "source": [
    "# Re-construct model with new vocab and optimal C value\n",
    "\n",
    "accuracy = []\n",
    "c_values = [0.01, 0.20, 0.30, 0.40, 0.50, 0.60, 0.70, 0.80, 0.99]\n",
    "\n",
    "for C in [0.01, 0.20, 0.30, 0.40, 0.50, 0.60, 0.70, 0.80, 0.99]:\n",
    "    \n",
    "    logistic_temp = LogisticRegression(penalty=\"l2\", C=C, tol=0.01)\n",
    "    logistic_temp.fit(vec_train_6_new, train_labels)\n",
    "    logistic_temp_predict = logistic_temp.predict(dev_train_6_new)\n",
    "    \n",
    "    accuracy.append(metrics.f1_score(dev_labels,logistic_temp_predict,average='weighted'))\n",
    "    \n",
    "plt.plot(c_values, accuracy)    \n",
    "plt.xlabel(\"C value\") \n",
    "plt.ylabel(\"f1 scores\") "
   ]
  },
  {
   "cell_type": "markdown",
   "metadata": {},
   "source": [
    "### Part 7\n",
    "\n",
    "Use the TfidfVectorizer -- how is this different from the CountVectorizer? Train a logistic regression model with C=100.\n",
    "\n",
    "Make predictions on the dev data and show the top 3 documents where the ratio R is largest, where R is:\n",
    "\n",
    "maximum predicted probability / predicted probability of the correct label\n",
    "\n",
    "What kinds of mistakes is the model making? Suggest a way to address one particular issue that you see.\n",
    "\n",
    "[4 pts]"
   ]
  },
  {
   "cell_type": "code",
   "execution_count": 24,
   "metadata": {
    "collapsed": false
   },
   "outputs": [
    {
     "name": "stdout",
     "output_type": "stream",
     "text": [
      "Top 3 documents:\n",
      "\n",
      "\n",
      "The 24 children were, of course, killed by a lone gunman in a second story\n",
      "window, who fired eight bullets in the space of two seconds...\n",
      "\n",
      "------------------------------------------\n",
      "\n",
      "\n",
      "Can anyone provide me a ftp site where I can obtain a online version\n",
      "of the Book of Mormon. Please email the internet address if possible.\n",
      "------------------------------------------\n",
      "\n",
      "\n",
      "I am pleased to announce that a *revised version* of _The Easy-to-Read Book\n",
      "of Mormon_ (former title: _Mormon's Book_) by Lynn Matthews Anderson is now\n",
      "available through anonymous ftp (see information below). In addition to the\n",
      "change in title, the revised ETR BOM has been shortened by several pages\n",
      "(eliminating many extraneous \"that's\" and \"of's\"), and many (minor) errors\n",
      "have been corrected. This release includes a simplified Joseph Smith Story,\n",
      "testimonies of the three and eight witnesses, and a \"Words-to-Know\"\n",
      "glossary.\n",
      "\n",
      "As with the previous announcement, readers are reminded that this is a\n",
      "not-for-profit endeavor. This is a copyrighted work, but people are welcome\n",
      "to make *verbatim* copies for personal use. People can recuperate the\n",
      "actual costs of printing (paper, copy center charges), but may not charge\n",
      "anything for their time in making copies, or in any way realize a profit\n",
      "from the use of this book. See the permissions notice in the book itself\n",
      "for the precise terms.\n",
      "\n",
      "Negotiations are currently underway with a Mormon publisher vis-a-vis the\n",
      "printing and distribution of bound books. (Sorry, I'm out of the wire-bound\n",
      "\"first editions.\") I will make another announcement about the availability\n",
      "of printed copies once everything has been worked out.\n",
      "\n",
      "FTP information: connect via anonymous ftp to carnot.itc.cmu.edu, then \"cd\n",
      "pub\" (you won't see anything at all until you do).\n",
      "\n",
      "\"The Easy-to-Read Book of Mormon\" is currently available in postscript and\n",
      "RTF (rich text format). (ASCII, LaTeX, and other versions can be made\n",
      "available; contact dba@andrew.cmu.edu for details.) You should be able to\n",
      "print the postscript file on any postscript printer (such as an Apple\n",
      "Laserwriter); let dba know if you have any difficulties. (The postscript in\n",
      "the last release had problems on some printers; this time it should work\n",
      "better.) RTF is a standard document interchange format that can be read in\n",
      "by a number of word processors, including Microsoft Word for both the\n",
      "Macintosh and Windows. If you don't have a postscript printer, you may be\n",
      "able to use the RTF file to print out a copy of the book.\n",
      "\n",
      "-r--r--r--  1 dba                   1984742 Apr 27 13:12 etrbom.ps\n",
      "-r--r--r--  1 dba                   1209071 Apr 27 13:13 etrbom.rtf\n",
      "\n",
      "For more information about how this project came about, please refer to my\n",
      "article in the current issue of _Sunstone_, entitled \"Delighting in\n",
      "Plainness: Issues Surrounding a Simple Modern English Book of Mormon.\"\n",
      "\n",
      "Send all inquiries and comments to:\n",
      "\n",
      "    Lynn Matthews Anderson\n",
      "    5806 Hampton Street\n",
      "    Pittsburgh, PA 15206\n",
      "------------------------------------------\n",
      "\n"
     ]
    }
   ],
   "source": [
    "# Create vector with TfidfVectorizer\n",
    "\n",
    "vec_7 = TfidfVectorizer()\n",
    "vec_7_train = vec_7.fit_transform(train_data)\n",
    "vec_7_dev = vec_7.transform(dev_data)\n",
    "\n",
    "# Train logistic\n",
    "\n",
    "logistic_7 = LogisticRegression(C=100)\n",
    "logistic_7.fit(vec_7_train, train_labels)\n",
    "logistic_7_predict = logistic_7.predict(vec_7_dev)\n",
    "\n",
    "# Show top 3 documents according to R values\n",
    "\n",
    "proba = logistic_7.predict_proba(vec_7_dev)\n",
    "\n",
    "r_values = np.zeros(len(proba))\n",
    "\n",
    "for row in range(len(proba)):\n",
    "    probs = proba[row]\n",
    "    r_values[row] = float(np.max(probs))/float(probs[dev_labels[row]])\n",
    "\n",
    "largest = np.argsort(r_values)[-3:]\n",
    "\n",
    "print (\"Top 3 documents:\")\n",
    "\n",
    "for i in largest:\n",
    "    print (\"\\n\" + dev_data[i] + \"\\n\" + \"------------------------------------------\" + \"\\n\")"
   ]
  },
  {
   "cell_type": "code",
   "execution_count": 25,
   "metadata": {
    "collapsed": false
   },
   "outputs": [
    {
     "name": "stdout",
     "output_type": "stream",
     "text": [
      "[[102  11  19  33]\n",
      " [  5 168  10   2]\n",
      " [ 10  20 165   4]\n",
      " [ 31  10   5  81]]\n"
     ]
    },
    {
     "data": {
      "image/png": "[encoded data removed]",
      "text/plain": [
       "<matplotlib.figure.Figure at 0x1a164eab70>"
      ]
     },
     "metadata": {},
     "output_type": "display_data"
    }
   ],
   "source": [
    "# Produce simple confusion matrix\n",
    "\n",
    "cm = confusion_matrix(dev_labels, logistic_7_predict)\n",
    "print(cm)\n",
    "\n",
    "\n",
    "# Produce confusion matrix heatmap for extra clarity\n",
    "\n",
    "fig = plt.figure()\n",
    "ax = fig.add_subplot(111)\n",
    "cax = ax.matshow(cm)\n",
    "plt.title('Confusion Matrix Heat Map')\n",
    "fig.colorbar(cax)\n",
    "plt.xlabel('Predicted')\n",
    "plt.ylabel('True')\n",
    "plt.show()"
   ]
  },
  {
   "cell_type": "markdown",
   "metadata": {},
   "source": [
    "#### Has a lot of toruble predicting the third example."
   ]
  }
 ],
 "metadata": {
  "kernelspec": {
   "display_name": "Python 3",
   "language": "python",
   "name": "python3"
  },
  "language_info": {
   "codemirror_mode": {
    "name": "ipython",
    "version": 3
   },
   "file_extension": ".py",
   "mimetype": "text/x-python",
   "name": "python",
   "nbconvert_exporter": "python",
   "pygments_lexer": "ipython3",
   "version": "3.6.0"
  }
 },
 "nbformat": 4,
 "nbformat_minor": 0
}
